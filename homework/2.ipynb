{
 "cells": [
  {
   "cell_type": "code",
   "execution_count": 3,
   "metadata": {},
   "outputs": [
    {
     "name": "stdout",
     "output_type": "stream",
     "text": [
      "Requirement already satisfied: texthero in c:\\users\\admin\\appdata\\local\\programs\\python\\python39\\lib\\site-packages (1.1.0)\n",
      "Requirement already satisfied: unidecode>=1.1.1 in c:\\users\\admin\\appdata\\local\\programs\\python\\python39\\lib\\site-packages (from texthero) (1.3.6)\n"
     ]
    },
    {
     "name": "stderr",
     "output_type": "stream",
     "text": [
      "WARNING: You are using pip version 20.2.3; however, version 22.3.1 is available.\n",
      "You should consider upgrading via the 'c:\\users\\admin\\appdata\\local\\programs\\python\\python39\\python.exe -m pip install --upgrade pip' command.\n"
     ]
    },
    {
     "name": "stdout",
     "output_type": "stream",
     "text": [
      "Requirement already satisfied: matplotlib>=3.1.0 in c:\\users\\admin\\appdata\\local\\programs\\python\\python39\\lib\\site-packages (from texthero) (3.5.1)\n",
      "Requirement already satisfied: spacy<3.0.0 in c:\\users\\admin\\appdata\\local\\programs\\python\\python39\\lib\\site-packages (from texthero) (2.3.9)\n",
      "Requirement already satisfied: tqdm>=4.3 in c:\\users\\admin\\appdata\\local\\programs\\python\\python39\\lib\\site-packages (from texthero) (4.64.0)\n",
      "Requirement already satisfied: gensim<4.0,>=3.6.0 in c:\\users\\admin\\appdata\\local\\programs\\python\\python39\\lib\\site-packages (from texthero) (3.8.3)\n",
      "Requirement already satisfied: nltk>=3.3 in c:\\users\\admin\\appdata\\local\\programs\\python\\python39\\lib\\site-packages (from texthero) (3.8.1)\n",
      "Requirement already satisfied: wordcloud>=1.5.0 in c:\\users\\admin\\appdata\\local\\programs\\python\\python39\\lib\\site-packages (from texthero) (1.8.2.2)\n",
      "Requirement already satisfied: scikit-learn>=0.22 in c:\\users\\admin\\appdata\\local\\programs\\python\\python39\\lib\\site-packages (from texthero) (1.0.2)\n",
      "Requirement already satisfied: pandas>=1.0.2 in c:\\users\\admin\\appdata\\local\\programs\\python\\python39\\lib\\site-packages (from texthero) (1.4.2)\n",
      "Requirement already satisfied: numpy>=1.17 in c:\\users\\admin\\appdata\\local\\programs\\python\\python39\\lib\\site-packages (from texthero) (1.22.2)\n",
      "Requirement already satisfied: plotly>=4.2.0 in c:\\users\\admin\\appdata\\local\\programs\\python\\python39\\lib\\site-packages (from texthero) (5.11.0)\n",
      "Requirement already satisfied: kiwisolver>=1.0.1 in c:\\users\\admin\\appdata\\local\\programs\\python\\python39\\lib\\site-packages (from matplotlib>=3.1.0->texthero) (1.3.2)\n",
      "Requirement already satisfied: pyparsing>=2.2.1 in c:\\users\\admin\\appdata\\local\\programs\\python\\python39\\lib\\site-packages (from matplotlib>=3.1.0->texthero) (3.0.7)\n",
      "Requirement already satisfied: python-dateutil>=2.7 in c:\\users\\admin\\appdata\\local\\programs\\python\\python39\\lib\\site-packages (from matplotlib>=3.1.0->texthero) (2.8.2)\n",
      "Requirement already satisfied: packaging>=20.0 in c:\\users\\admin\\appdata\\local\\programs\\python\\python39\\lib\\site-packages (from matplotlib>=3.1.0->texthero) (21.3)\n",
      "Requirement already satisfied: pillow>=6.2.0 in c:\\users\\admin\\appdata\\local\\programs\\python\\python39\\lib\\site-packages (from matplotlib>=3.1.0->texthero) (9.0.1)\n",
      "Requirement already satisfied: cycler>=0.10 in c:\\users\\admin\\appdata\\local\\programs\\python\\python39\\lib\\site-packages (from matplotlib>=3.1.0->texthero) (0.11.0)\n",
      "Requirement already satisfied: fonttools>=4.22.0 in c:\\users\\admin\\appdata\\local\\programs\\python\\python39\\lib\\site-packages (from matplotlib>=3.1.0->texthero) (4.29.1)\n",
      "Requirement already satisfied: cymem<2.1.0,>=2.0.2 in c:\\users\\admin\\appdata\\local\\programs\\python\\python39\\lib\\site-packages (from spacy<3.0.0->texthero) (2.0.7)\n",
      "Requirement already satisfied: plac<1.2.0,>=0.9.6 in c:\\users\\admin\\appdata\\local\\programs\\python\\python39\\lib\\site-packages (from spacy<3.0.0->texthero) (1.1.3)\n",
      "Requirement already satisfied: setuptools in c:\\users\\admin\\appdata\\local\\programs\\python\\python39\\lib\\site-packages (from spacy<3.0.0->texthero) (49.2.1)\n",
      "Requirement already satisfied: wasabi<1.1.0,>=0.4.0 in c:\\users\\admin\\appdata\\local\\programs\\python\\python39\\lib\\site-packages (from spacy<3.0.0->texthero) (0.10.1)\n",
      "Requirement already satisfied: catalogue<1.1.0,>=0.0.7 in c:\\users\\admin\\appdata\\local\\programs\\python\\python39\\lib\\site-packages (from spacy<3.0.0->texthero) (1.0.2)\n",
      "Requirement already satisfied: murmurhash<1.1.0,>=0.28.0 in c:\\users\\admin\\appdata\\local\\programs\\python\\python39\\lib\\site-packages (from spacy<3.0.0->texthero) (1.0.9)\n",
      "Requirement already satisfied: preshed<3.1.0,>=3.0.2 in c:\\users\\admin\\appdata\\local\\programs\\python\\python39\\lib\\site-packages (from spacy<3.0.0->texthero) (3.0.8)\n",
      "Requirement already satisfied: thinc<7.5.0,>=7.4.1 in c:\\users\\admin\\appdata\\local\\programs\\python\\python39\\lib\\site-packages (from spacy<3.0.0->texthero) (7.4.6)\n",
      "Requirement already satisfied: requests<3.0.0,>=2.13.0 in c:\\users\\admin\\appdata\\local\\programs\\python\\python39\\lib\\site-packages (from spacy<3.0.0->texthero) (2.27.1)\n",
      "Requirement already satisfied: srsly<1.1.0,>=1.0.2 in c:\\users\\admin\\appdata\\local\\programs\\python\\python39\\lib\\site-packages (from spacy<3.0.0->texthero) (1.0.6)\n",
      "Requirement already satisfied: blis<0.8.0,>=0.4.0 in c:\\users\\admin\\appdata\\local\\programs\\python\\python39\\lib\\site-packages (from spacy<3.0.0->texthero) (0.7.9)\n",
      "Requirement already satisfied: colorama; platform_system == \"Windows\" in c:\\users\\admin\\appdata\\roaming\\python\\python39\\site-packages (from tqdm>=4.3->texthero) (0.4.4)\n",
      "Requirement already satisfied: scipy>=0.18.1 in c:\\users\\admin\\appdata\\local\\programs\\python\\python39\\lib\\site-packages (from gensim<4.0,>=3.6.0->texthero) (1.8.0)\n",
      "Requirement already satisfied: six>=1.5.0 in c:\\users\\admin\\appdata\\local\\programs\\python\\python39\\lib\\site-packages (from gensim<4.0,>=3.6.0->texthero) (1.16.0)\n",
      "Requirement already satisfied: smart-open>=1.8.1 in c:\\users\\admin\\appdata\\local\\programs\\python\\python39\\lib\\site-packages (from gensim<4.0,>=3.6.0->texthero) (6.3.0)\n",
      "Requirement already satisfied: joblib in c:\\users\\admin\\appdata\\local\\programs\\python\\python39\\lib\\site-packages (from nltk>=3.3->texthero) (1.1.0)\n",
      "Requirement already satisfied: regex>=2021.8.3 in c:\\users\\admin\\appdata\\local\\programs\\python\\python39\\lib\\site-packages (from nltk>=3.3->texthero) (2022.6.2)\n",
      "Requirement already satisfied: click in c:\\users\\admin\\appdata\\local\\programs\\python\\python39\\lib\\site-packages (from nltk>=3.3->texthero) (8.1.3)\n",
      "Requirement already satisfied: threadpoolctl>=2.0.0 in c:\\users\\admin\\appdata\\local\\programs\\python\\python39\\lib\\site-packages (from scikit-learn>=0.22->texthero) (3.1.0)\n",
      "Requirement already satisfied: pytz>=2020.1 in c:\\users\\admin\\appdata\\local\\programs\\python\\python39\\lib\\site-packages (from pandas>=1.0.2->texthero) (2022.1)\n",
      "Requirement already satisfied: tenacity>=6.2.0 in c:\\users\\admin\\appdata\\local\\programs\\python\\python39\\lib\\site-packages (from plotly>=4.2.0->texthero) (8.1.0)\n",
      "Requirement already satisfied: charset-normalizer~=2.0.0; python_version >= \"3\" in c:\\users\\admin\\appdata\\local\\programs\\python\\python39\\lib\\site-packages (from requests<3.0.0,>=2.13.0->spacy<3.0.0->texthero) (2.0.12)\n",
      "Requirement already satisfied: certifi>=2017.4.17 in c:\\users\\admin\\appdata\\local\\programs\\python\\python39\\lib\\site-packages (from requests<3.0.0,>=2.13.0->spacy<3.0.0->texthero) (2022.5.18.1)\n",
      "Requirement already satisfied: urllib3<1.27,>=1.21.1 in c:\\users\\admin\\appdata\\local\\programs\\python\\python39\\lib\\site-packages (from requests<3.0.0,>=2.13.0->spacy<3.0.0->texthero) (1.26.9)\n",
      "Requirement already satisfied: idna<4,>=2.5; python_version >= \"3\" in c:\\users\\admin\\appdata\\local\\programs\\python\\python39\\lib\\site-packages (from requests<3.0.0,>=2.13.0->spacy<3.0.0->texthero) (3.3)\n"
     ]
    }
   ],
   "source": [
    "!pip install texthero"
   ]
  },
  {
   "cell_type": "code",
   "execution_count": 3,
   "metadata": {},
   "outputs": [],
   "source": [
    "import os\n",
    "import pandas as pd"
   ]
  },
  {
   "cell_type": "markdown",
   "metadata": {},
   "source": []
  },
  {
   "cell_type": "code",
   "execution_count": 4,
   "metadata": {},
   "outputs": [
    {
     "name": "stdout",
     "output_type": "stream",
     "text": [
      "num rows for train: %d 5233\n"
     ]
    }
   ],
   "source": [
    "input_file = '.\\labeled_data_corpus.csv'\n",
    "if not os.path.exists(input_file):\n",
    "    raise RuntimeError(f'No input file: {input_file}')\n",
    "\n",
    "df = pd.read_csv(input_file)\n",
    "train_df = df[df['subset'] == 'train']\n",
    "test_df = df[df['subset'] == 'test']\n",
    "print('num rows for train: %d', train_df.shape[0])"
   ]
  },
  {
   "cell_type": "code",
   "execution_count": 5,
   "metadata": {},
   "outputs": [],
   "source": [
    "X_train = train_df['msg']\n",
    "y_train = train_df['label']\n",
    "\n",
    "X_test = test_df['msg']\n",
    "y_test = test_df['label']"
   ]
  },
  {
   "cell_type": "code",
   "execution_count": 7,
   "metadata": {},
   "outputs": [
    {
     "data": {
      "text/plain": [
       "0    здравствуйте. ишу 2х спальную квартиру в лимас...\n",
       "1    #сниму  комнату в лимассоле или недалеко от не...\n",
       "2                        мошенник риэлторским услугам.\n",
       "3    **sales**    reg.1053 lic.489/e **stylish apar...\n",
       "4    важно: [valerii korol](tg://user?id=193474890)...\n",
       "5    аренда  no: 367/e ️ларнака️между пила и декели...\n",
       "6    привет  ищу виллу посуточно с бюджетом 2000€ в...\n",
       "7    важно: [liss](tg://user?id=202814885), если ты...\n",
       "8                               total messages: 126772\n",
       "9    аренда  ️ларнака ️в центре города️ saint lazar...\n",
       "Name: msg, dtype: object"
      ]
     },
     "execution_count": 7,
     "metadata": {},
     "output_type": "execute_result"
    }
   ],
   "source": [
    "X_train[:10]"
   ]
  },
  {
   "cell_type": "code",
   "execution_count": 6,
   "metadata": {},
   "outputs": [
    {
     "ename": "NameError",
     "evalue": "name 'n' is not defined",
     "output_type": "error",
     "traceback": [
      "\u001b[1;31m---------------------------------------------------------------------------\u001b[0m",
      "\u001b[1;31mNameError\u001b[0m                                 Traceback (most recent call last)",
      "\u001b[1;32mc:\\Scince\\MLsystemDesingn\\2.ipynb Ячейка 7\u001b[0m in \u001b[0;36m<cell line: 25>\u001b[1;34m()\u001b[0m\n\u001b[0;32m     <a href='vscode-notebook-cell:/c%3A/Scince/MLsystemDesingn/2.ipynb#W5sZmlsZQ%3D%3D?line=22'>23</a>\u001b[0m model \u001b[39m=\u001b[39m XGBClassifier()\n\u001b[0;32m     <a href='vscode-notebook-cell:/c%3A/Scince/MLsystemDesingn/2.ipynb#W5sZmlsZQ%3D%3D?line=23'>24</a>\u001b[0m \u001b[39m#cv = RepeatedStratifiedKFold(n_splits=10, n_repeats=3, random_state=1)\u001b[39;00m\n\u001b[1;32m---> <a href='vscode-notebook-cell:/c%3A/Scince/MLsystemDesingn/2.ipynb#W5sZmlsZQ%3D%3D?line=24'>25</a>\u001b[0m n\u001b[39m#_scores = cross_val_score(model, X_train, y_train, scoring='accuracy', cv=cv, n_jobs=-1, error_score='raise')\u001b[39;00m\n\u001b[0;32m     <a href='vscode-notebook-cell:/c%3A/Scince/MLsystemDesingn/2.ipynb#W5sZmlsZQ%3D%3D?line=25'>26</a>\u001b[0m \u001b[39mprint\u001b[39m(\u001b[39m'\u001b[39m\u001b[39mТочность: \u001b[39m\u001b[39m%.3f\u001b[39;00m\u001b[39m (\u001b[39m\u001b[39m%.3f\u001b[39;00m\u001b[39m)\u001b[39m\u001b[39m'\u001b[39m \u001b[39m%\u001b[39m (mean(n_scores), std(n_scores)))\n",
      "\u001b[1;31mNameError\u001b[0m: name 'n' is not defined"
     ]
    }
   ],
   "source": [
    "from numpy import asarray\n",
    "from numpy import mean\n",
    "from numpy import std\n",
    "from sklearn.datasets import make_classification\n",
    "from xgboost import XGBClassifier\n",
    "from sklearn.model_selection import cross_val_score\n",
    "from sklearn.model_selection import RepeatedStratifiedKFold\n",
    "\n",
    "from sklearn.feature_extraction.text import TfidfVectorizer\n",
    "from sklearn.linear_model import LogisticRegression\n",
    "from sklearn.metrics import f1_score\n",
    "\n",
    "import numpy as np\n",
    "from sklearn.model_selection import ParameterGrid\n",
    "\n",
    "# определяем датасет\n",
    "X_train = train_df['msg'].values\n",
    "y_train = train_df['label']\n",
    "\n",
    "X_test = test_df['msg'].values\n",
    "y_true = test_df['label']\n",
    "# и нашу модель вместе с кросс-валидацией\n",
    "model = XGBClassifier()\n",
    "cv = RepeatedStratifiedKFold(n_splits=10, n_repeats=3, random_state=1)\n",
    "n_scores = cross_val_score(model, X_train, y_train, scoring='accuracy', cv=cv, n_jobs=-1, error_score='raise')\n",
    "print('Точность: %.3f (%.3f)' % (mean(n_scores), std(n_scores)))\n",
    "# тренируем модель на всём наборе данных\n",
    "\n"
   ]
  },
  {
   "cell_type": "code",
   "execution_count": null,
   "metadata": {},
   "outputs": [],
   "source": [
    "model = XGBClassifier()\n",
    "model.fit(X_test, y_test)\n",
    "# предсказываем\n",
    "row = [2.56999479, -0.13019997, 3.16075093, -4.35936352, -1.61271951, -1.39352057, -2.48924933, -1.93094078, 3.26130366, 2.05692145]\n",
    "row = asarray(row).reshape((1, len(row)))\n",
    "yhat = model.predict(row)\n",
    "print('Предсказание (Предикт): %d' % yhat[0])"
   ]
  },
  {
   "cell_type": "code",
   "execution_count": null,
   "metadata": {},
   "outputs": [],
   "source": [
    "from sklearn.feature_extraction.text import TfidfVectorizer\n",
    "from sklearn.linear_model import LogisticRegression\n",
    "from sklearn.metrics import f1_score\n",
    "\n",
    "import numpy as np\n",
    "from sklearn.model_selection import ParameterGrid\n",
    "\n",
    "X_train = train_df['msg'].values\n",
    "y_train = train_df['label']\n",
    "\n",
    "X_test = test_df['msg'].values\n",
    "y_true = test_df['label']\n",
    "\n",
    "grid = {\n",
    "    'max_df': np.arange(0.01, 1.0, 0.01),\n",
    "    'min_df': np.arange(1, 20, 1),\n",
    "}\n",
    "\n",
    "best_params = {'max_df': None, 'min_df': None}\n",
    "best_score = 0.0\n",
    "\n",
    "num_iters = len(ParameterGrid(grid))\n",
    "\n",
    "cnt = 0\n",
    "for param_values in ParameterGrid(grid):\n",
    "    # fit \n",
    "    vectorizer = TfidfVectorizer(**param_values).fit(X_train)\n",
    "    X_train_csr = vectorizer.transform(X_train)\n",
    "    lr = LogisticRegression().fit(X_train_csr, y_train)\n",
    "    # predict\n",
    "    X_test_csr = vectorizer.transform(X_test)\n",
    "    y_pred = lr.predict(X_test_csr)\n",
    "    cur_score = f1_score(y_true, y_pred)\n",
    "    if cur_score > best_score:\n",
    "        best_score = cur_score\n",
    "        best_params.update(param_values)\n",
    "    if cnt % 250 == 0:\n",
    "        logging.info(\n",
    "            'iteration: %d of %d; %s; best_score= %.4f',\n",
    "            cnt, num_iters, param_values, best_score\n",
    "        )\n",
    "    cnt = cnt + 1\n",
    "print('best params: %s, best_score %.4f', best_params, best_score)"
   ]
  },
  {
   "cell_type": "code",
   "execution_count": null,
   "metadata": {},
   "outputs": [],
   "source": []
  }
 ],
 "metadata": {
  "kernelspec": {
   "display_name": "Python 3.9.0 64-bit",
   "language": "python",
   "name": "python3"
  },
  "language_info": {
   "codemirror_mode": {
    "name": "ipython",
    "version": 3
   },
   "file_extension": ".py",
   "mimetype": "text/x-python",
   "name": "python",
   "nbconvert_exporter": "python",
   "pygments_lexer": "ipython3",
   "version": "3.9.0"
  },
  "orig_nbformat": 4,
  "vscode": {
   "interpreter": {
    "hash": "4cff3abf1678755e0069fd79299a535fe1940bcd71a6b01d9f4386710b2b163f"
   }
  }
 },
 "nbformat": 4,
 "nbformat_minor": 2
}
